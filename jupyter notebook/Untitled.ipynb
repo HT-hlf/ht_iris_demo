{
 "cells": [
  {
   "cell_type": "code",
   "execution_count": 1,
   "metadata": {
    "scrolled": true
   },
   "outputs": [
    {
     "name": "stderr",
     "output_type": "stream",
     "text": [
      "C:\\ProgramData\\Anaconda3\\lib\\site-packages\\tensorflow\\python\\framework\\dtypes.py:526: FutureWarning: Passing (type, 1) or '1type' as a synonym of type is deprecated; in a future version of numpy, it will be understood as (type, (1,)) / '(1,)type'.\n",
      "  _np_qint8 = np.dtype([(\"qint8\", np.int8, 1)])\n",
      "C:\\ProgramData\\Anaconda3\\lib\\site-packages\\tensorflow\\python\\framework\\dtypes.py:527: FutureWarning: Passing (type, 1) or '1type' as a synonym of type is deprecated; in a future version of numpy, it will be understood as (type, (1,)) / '(1,)type'.\n",
      "  _np_quint8 = np.dtype([(\"quint8\", np.uint8, 1)])\n",
      "C:\\ProgramData\\Anaconda3\\lib\\site-packages\\tensorflow\\python\\framework\\dtypes.py:528: FutureWarning: Passing (type, 1) or '1type' as a synonym of type is deprecated; in a future version of numpy, it will be understood as (type, (1,)) / '(1,)type'.\n",
      "  _np_qint16 = np.dtype([(\"qint16\", np.int16, 1)])\n",
      "C:\\ProgramData\\Anaconda3\\lib\\site-packages\\tensorflow\\python\\framework\\dtypes.py:529: FutureWarning: Passing (type, 1) or '1type' as a synonym of type is deprecated; in a future version of numpy, it will be understood as (type, (1,)) / '(1,)type'.\n",
      "  _np_quint16 = np.dtype([(\"quint16\", np.uint16, 1)])\n",
      "C:\\ProgramData\\Anaconda3\\lib\\site-packages\\tensorflow\\python\\framework\\dtypes.py:530: FutureWarning: Passing (type, 1) or '1type' as a synonym of type is deprecated; in a future version of numpy, it will be understood as (type, (1,)) / '(1,)type'.\n",
      "  _np_qint32 = np.dtype([(\"qint32\", np.int32, 1)])\n",
      "C:\\ProgramData\\Anaconda3\\lib\\site-packages\\tensorflow\\python\\framework\\dtypes.py:535: FutureWarning: Passing (type, 1) or '1type' as a synonym of type is deprecated; in a future version of numpy, it will be understood as (type, (1,)) / '(1,)type'.\n",
      "  np_resource = np.dtype([(\"resource\", np.ubyte, 1)])\n"
     ]
    }
   ],
   "source": [
    "import tensorflow as tf\n",
    "import numpy as np\n",
    "import csv\n",
    "import matplotlib.pyplot as plt"
   ]
  },
  {
   "cell_type": "code",
   "execution_count": 2,
   "metadata": {},
   "outputs": [
    {
     "name": "stdout",
     "output_type": "stream",
     "text": [
      "1.13.2\n"
     ]
    }
   ],
   "source": [
    "#姓名：黄涛 学号：03180958\n",
    "##tensorflow环境:\n",
    "print(tf.__version__)"
   ]
  },
  {
   "cell_type": "code",
   "execution_count": 16,
   "metadata": {},
   "outputs": [
    {
     "name": "stdout",
     "output_type": "stream",
     "text": [
      "['Sepal.Length', 'Sepal.Width', 'Petal.Length', 'Petal.Width', 'Species']\n",
      "['1', '5.1', '3.5', '1.4', '0.2', 'setosa']\n",
      "['2', '4.9', '3', '1.4', '0.2', 'setosa']\n",
      "['3', '4.7', '3.2', '1.3', '0.2', 'setosa']\n",
      "['4', '4.6', '3.1', '1.5', '0.2', 'setosa']\n",
      "['5', '5', '3.6', '1.4', '0.2', 'setosa']\n",
      "['6', '5.4', '3.9', '1.7', '0.4', 'setosa']\n",
      "['7', '4.6', '3.4', '1.4', '0.3', 'setosa']\n",
      "['8', '5', '3.4', '1.5', '0.2', 'setosa']\n",
      "['9', '4.4', '2.9', '1.4', '0.2', 'setosa']\n",
      "['10', '4.9', '3.1', '1.5', '0.1', 'setosa']\n",
      "['11', '5.4', '3.7', '1.5', '0.2', 'setosa']\n",
      "['12', '4.8', '3.4', '1.6', '0.2', 'setosa']\n",
      "['13', '4.8', '3', '1.4', '0.1', 'setosa']\n",
      "['14', '4.3', '3', '1.1', '0.1', 'setosa']\n",
      "['15', '5.8', '4', '1.2', '0.2', 'setosa']\n",
      "['16', '5.7', '4.4', '1.5', '0.4', 'setosa']\n",
      "['17', '5.4', '3.9', '1.3', '0.4', 'setosa']\n",
      "['18', '5.1', '3.5', '1.4', '0.3', 'setosa']\n",
      "['19', '5.7', '3.8', '1.7', '0.3', 'setosa']\n",
      "['20', '5.1', '3.8', '1.5', '0.3', 'setosa']\n",
      "['21', '5.4', '3.4', '1.7', '0.2', 'setosa']\n",
      "['22', '5.1', '3.7', '1.5', '0.4', 'setosa']\n",
      "['23', '4.6', '3.6', '1', '0.2', 'setosa']\n",
      "['24', '5.1', '3.3', '1.7', '0.5', 'setosa']\n",
      "['25', '4.8', '3.4', '1.9', '0.2', 'setosa']\n",
      "['26', '5', '3', '1.6', '0.2', 'setosa']\n",
      "['27', '5', '3.4', '1.6', '0.4', 'setosa']\n",
      "['28', '5.2', '3.5', '1.5', '0.2', 'setosa']\n",
      "['29', '5.2', '3.4', '1.4', '0.2', 'setosa']\n",
      "['30', '4.7', '3.2', '1.6', '0.2', 'setosa']\n",
      "['31', '4.8', '3.1', '1.6', '0.2', 'setosa']\n",
      "['32', '5.4', '3.4', '1.5', '0.4', 'setosa']\n",
      "['33', '5.2', '4.1', '1.5', '0.1', 'setosa']\n",
      "['34', '5.5', '4.2', '1.4', '0.2', 'setosa']\n",
      "['35', '4.9', '3.1', '1.5', '0.2', 'setosa']\n",
      "['36', '5', '3.2', '1.2', '0.2', 'setosa']\n",
      "['37', '5.5', '3.5', '1.3', '0.2', 'setosa']\n",
      "['38', '4.9', '3.6', '1.4', '0.1', 'setosa']\n",
      "['39', '4.4', '3', '1.3', '0.2', 'setosa']\n",
      "['40', '5.1', '3.4', '1.5', '0.2', 'setosa']\n",
      "['41', '5', '3.5', '1.3', '0.3', 'setosa']\n",
      "['42', '4.5', '2.3', '1.3', '0.3', 'setosa']\n",
      "['43', '4.4', '3.2', '1.3', '0.2', 'setosa']\n",
      "['44', '5', '3.5', '1.6', '0.6', 'setosa']\n",
      "['45', '5.1', '3.8', '1.9', '0.4', 'setosa']\n",
      "['46', '4.8', '3', '1.4', '0.3', 'setosa']\n",
      "['47', '5.1', '3.8', '1.6', '0.2', 'setosa']\n",
      "['48', '4.6', '3.2', '1.4', '0.2', 'setosa']\n",
      "['49', '5.3', '3.7', '1.5', '0.2', 'setosa']\n",
      "['50', '5', '3.3', '1.4', '0.2', 'setosa']\n",
      "['51', '7', '3.2', '4.7', '1.4', 'versicolor']\n",
      "['52', '6.4', '3.2', '4.5', '1.5', 'versicolor']\n",
      "['53', '6.9', '3.1', '4.9', '1.5', 'versicolor']\n",
      "['54', '5.5', '2.3', '4', '1.3', 'versicolor']\n",
      "['55', '6.5', '2.8', '4.6', '1.5', 'versicolor']\n",
      "['56', '5.7', '2.8', '4.5', '1.3', 'versicolor']\n",
      "['57', '6.3', '3.3', '4.7', '1.6', 'versicolor']\n",
      "['58', '4.9', '2.4', '3.3', '1', 'versicolor']\n",
      "['59', '6.6', '2.9', '4.6', '1.3', 'versicolor']\n",
      "['60', '5.2', '2.7', '3.9', '1.4', 'versicolor']\n",
      "['61', '5', '2', '3.5', '1', 'versicolor']\n",
      "['62', '5.9', '3', '4.2', '1.5', 'versicolor']\n",
      "['63', '6', '2.2', '4', '1', 'versicolor']\n",
      "['64', '6.1', '2.9', '4.7', '1.4', 'versicolor']\n",
      "['65', '5.6', '2.9', '3.6', '1.3', 'versicolor']\n",
      "['66', '6.7', '3.1', '4.4', '1.4', 'versicolor']\n",
      "['67', '5.6', '3', '4.5', '1.5', 'versicolor']\n",
      "['68', '5.8', '2.7', '4.1', '1', 'versicolor']\n",
      "['69', '6.2', '2.2', '4.5', '1.5', 'versicolor']\n",
      "['70', '5.6', '2.5', '3.9', '1.1', 'versicolor']\n",
      "['71', '5.9', '3.2', '4.8', '1.8', 'versicolor']\n",
      "['72', '6.1', '2.8', '4', '1.3', 'versicolor']\n",
      "['73', '6.3', '2.5', '4.9', '1.5', 'versicolor']\n",
      "['74', '6.1', '2.8', '4.7', '1.2', 'versicolor']\n",
      "['75', '6.4', '2.9', '4.3', '1.3', 'versicolor']\n",
      "['76', '6.6', '3', '4.4', '1.4', 'versicolor']\n",
      "['77', '6.8', '2.8', '4.8', '1.4', 'versicolor']\n",
      "['78', '6.7', '3', '5', '1.7', 'versicolor']\n",
      "['79', '6', '2.9', '4.5', '1.5', 'versicolor']\n",
      "['80', '5.7', '2.6', '3.5', '1', 'versicolor']\n",
      "['81', '5.5', '2.4', '3.8', '1.1', 'versicolor']\n",
      "['82', '5.5', '2.4', '3.7', '1', 'versicolor']\n",
      "['83', '5.8', '2.7', '3.9', '1.2', 'versicolor']\n",
      "['84', '6', '2.7', '5.1', '1.6', 'versicolor']\n",
      "['85', '5.4', '3', '4.5', '1.5', 'versicolor']\n",
      "['86', '6', '3.4', '4.5', '1.6', 'versicolor']\n",
      "['87', '6.7', '3.1', '4.7', '1.5', 'versicolor']\n",
      "['88', '6.3', '2.3', '4.4', '1.3', 'versicolor']\n",
      "['89', '5.6', '3', '4.1', '1.3', 'versicolor']\n",
      "['90', '5.5', '2.5', '4', '1.3', 'versicolor']\n",
      "['91', '5.5', '2.6', '4.4', '1.2', 'versicolor']\n",
      "['92', '6.1', '3', '4.6', '1.4', 'versicolor']\n",
      "['93', '5.8', '2.6', '4', '1.2', 'versicolor']\n",
      "['94', '5', '2.3', '3.3', '1', 'versicolor']\n",
      "['95', '5.6', '2.7', '4.2', '1.3', 'versicolor']\n",
      "['96', '5.7', '3', '4.2', '1.2', 'versicolor']\n",
      "['97', '5.7', '2.9', '4.2', '1.3', 'versicolor']\n",
      "['98', '6.2', '2.9', '4.3', '1.3', 'versicolor']\n",
      "['99', '5.1', '2.5', '3', '1.1', 'versicolor']\n",
      "['100', '5.7', '2.8', '4.1', '1.3', 'versicolor']\n",
      "['101', '6.3', '3.3', '6', '2.5', 'virginica']\n",
      "['102', '5.8', '2.7', '5.1', '1.9', 'virginica']\n",
      "['103', '7.1', '3', '5.9', '2.1', 'virginica']\n",
      "['104', '6.3', '2.9', '5.6', '1.8', 'virginica']\n",
      "['105', '6.5', '3', '5.8', '2.2', 'virginica']\n",
      "['106', '7.6', '3', '6.6', '2.1', 'virginica']\n",
      "['107', '4.9', '2.5', '4.5', '1.7', 'virginica']\n",
      "['108', '7.3', '2.9', '6.3', '1.8', 'virginica']\n",
      "['109', '6.7', '2.5', '5.8', '1.8', 'virginica']\n",
      "['110', '7.2', '3.6', '6.1', '2.5', 'virginica']\n",
      "['111', '6.5', '3.2', '5.1', '2', 'virginica']\n",
      "['112', '6.4', '2.7', '5.3', '1.9', 'virginica']\n",
      "['113', '6.8', '3', '5.5', '2.1', 'virginica']\n",
      "['114', '5.7', '2.5', '5', '2', 'virginica']\n",
      "['115', '5.8', '2.8', '5.1', '2.4', 'virginica']\n",
      "['116', '6.4', '3.2', '5.3', '2.3', 'virginica']\n",
      "['117', '6.5', '3', '5.5', '1.8', 'virginica']\n",
      "['118', '7.7', '3.8', '6.7', '2.2', 'virginica']\n",
      "['119', '7.7', '2.6', '6.9', '2.3', 'virginica']\n",
      "['120', '6', '2.2', '5', '1.5', 'virginica']\n",
      "['121', '6.9', '3.2', '5.7', '2.3', 'virginica']\n",
      "['122', '5.6', '2.8', '4.9', '2', 'virginica']\n",
      "['123', '7.7', '2.8', '6.7', '2', 'virginica']\n",
      "['124', '6.3', '2.7', '4.9', '1.8', 'virginica']\n",
      "['125', '6.7', '3.3', '5.7', '2.1', 'virginica']\n",
      "['126', '7.2', '3.2', '6', '1.8', 'virginica']\n",
      "['127', '6.2', '2.8', '4.8', '1.8', 'virginica']\n",
      "['128', '6.1', '3', '4.9', '1.8', 'virginica']\n",
      "['129', '6.4', '2.8', '5.6', '2.1', 'virginica']\n",
      "['130', '7.2', '3', '5.8', '1.6', 'virginica']\n",
      "['131', '7.4', '2.8', '6.1', '1.9', 'virginica']\n",
      "['132', '7.9', '3.8', '6.4', '2', 'virginica']\n",
      "['133', '6.4', '2.8', '5.6', '2.2', 'virginica']\n",
      "['134', '6.3', '2.8', '5.1', '1.5', 'virginica']\n",
      "['135', '6.1', '2.6', '5.6', '1.4', 'virginica']\n",
      "['136', '7.7', '3', '6.1', '2.3', 'virginica']\n",
      "['137', '6.3', '3.4', '5.6', '2.4', 'virginica']\n",
      "['138', '6.4', '3.1', '5.5', '1.8', 'virginica']\n",
      "['139', '6', '3', '4.8', '1.8', 'virginica']\n",
      "['140', '6.9', '3.1', '5.4', '2.1', 'virginica']\n",
      "['141', '6.7', '3.1', '5.6', '2.4', 'virginica']\n",
      "['142', '6.9', '3.1', '5.1', '2.3', 'virginica']\n",
      "['143', '5.8', '2.7', '5.1', '1.9', 'virginica']\n",
      "['144', '6.8', '3.2', '5.9', '2.3', 'virginica']\n",
      "['145', '6.7', '3.3', '5.7', '2.5', 'virginica']\n",
      "['146', '6.7', '3', '5.2', '2.3', 'virginica']\n",
      "['147', '6.3', '2.5', '5', '1.9', 'virginica']\n",
      "['148', '6.5', '3', '5.2', '2', 'virginica']\n",
      "['149', '6.2', '3.4', '5.4', '2.3', 'virginica']\n",
      "['150', '5.9', '3', '5.1', '1.8', 'virginica']\n"
     ]
    }
   ],
   "source": [
    "with open(r'.\\Iris数据集\\iris.csv') as f:\n",
    "    f_csv=csv.reader(f)\n",
    "    headers = next(f_csv)\n",
    "    print(headers[1:6])\n",
    "    x=[]\n",
    "    label=[]\n",
    "    for row in f_csv:\n",
    "        print(row)\n",
    "        x1=[float(i) for i in row[1:5]]\n",
    "        x.append(x1)\n",
    "        if row[5]=='setosa':\n",
    "            label.append(0)\n",
    "        elif row[5]=='versicolor':\n",
    "            label.append(1)\n",
    "        else:\n",
    "            label.append(2)\n",
    "    X1=np.array(x)\n",
    "    Y1=np.array(label)\n",
    "    permutation = np.random.permutation(Y1.shape[0])  # 记下第一维度的打乱顺序\n",
    "    X1= X1[permutation, :]  # 按照顺序索引\n",
    "    Y1 = Y1[permutation]\n",
    "    "
   ]
  },
  {
   "cell_type": "code",
   "execution_count": 17,
   "metadata": {},
   "outputs": [
    {
     "name": "stdout",
     "output_type": "stream",
     "text": [
      "转换前的一个数据: [6.3 2.8 5.1 1.5]\n",
      "转换后的一个数据: [[[6.3  6.3  6.3  1.   1.   1.   1.   1.  ]\n",
      "  [4.55 6.3  2.8  1.   1.   1.   1.   1.  ]\n",
      "  [5.7  6.3  5.1  1.   1.   1.   1.   1.  ]\n",
      "  [3.9  6.3  1.5  1.   1.   1.   1.   1.  ]]\n",
      "\n",
      " [[4.55 6.3  2.8  1.   1.   1.   1.   1.  ]\n",
      "  [2.8  2.8  2.8  1.   1.   1.   1.   1.  ]\n",
      "  [3.95 5.1  2.8  1.   1.   1.   1.   1.  ]\n",
      "  [2.15 2.8  1.5  1.   1.   1.   1.   1.  ]]\n",
      "\n",
      " [[5.7  6.3  5.1  1.   1.   1.   1.   1.  ]\n",
      "  [3.95 5.1  2.8  1.   1.   1.   1.   1.  ]\n",
      "  [5.1  5.1  5.1  1.   1.   1.   1.   1.  ]\n",
      "  [3.3  5.1  1.5  1.   1.   1.   1.   1.  ]]\n",
      "\n",
      " [[3.9  6.3  1.5  1.   1.   1.   1.   1.  ]\n",
      "  [2.15 2.8  1.5  1.   1.   1.   1.   1.  ]\n",
      "  [3.3  5.1  1.5  1.   1.   1.   1.   1.  ]\n",
      "  [1.5  1.5  1.5  1.   1.   1.   1.   1.  ]]]\n"
     ]
    }
   ],
   "source": [
    "#将一维数据转化成二维八通道数据以进行卷积\n",
    "def change1to2(X1,num):\n",
    "    X2=np.ones((num,4,4,8), dtype=float)\n",
    "    for i in range(num):\n",
    "            for j in range(3):\n",
    "                for a in range(4):\n",
    "                    for b in range(4):\n",
    "                        # print(' ')\n",
    "                        if j==0:\n",
    "                            X2[i,a,b,j]=(X1[i,a]+X1[i,b])/2\n",
    "                        elif j==1:\n",
    "                            X2[i,a,b,j]=max([X1[i,a],X1[i,b]])\n",
    "                        elif j==2:\n",
    "                            X2[i, a, b, j] =min([X1[i,a],X1[i,b]])\n",
    "                        elif j==2:\n",
    "                            X2[i, a, b, j] =abs(2*X1[i,a]-X2[i,b])\n",
    "                        elif j==2:\n",
    "                            X2[i,a,b,j] =(((X1[i,a])**2+(X1[i,b])**2)/2)**0.5\n",
    "                        elif j==2:\n",
    "                            X2[i,a,b,j] =(((X1[i,a])**5+(X1[i,b])**5)/2)**1/5\n",
    "                        elif j==2:\n",
    "                            X2[i,a,b,j] =(((X1[i,a])**10+(X1[i,b])**10)/2)**1/10\n",
    "                        else:\n",
    "                            X2[i,a,b,j] =(((X1[i,a])**100+(X1[i,b])**100)/2)**0.01\n",
    "    return X2\n",
    "X2=change1to2(X1,150)\n",
    "print('转换前的一个数据:',X1[0,:])\n",
    "print('转换后的一个数据:',X2[0,:,:,:])"
   ]
  },
  {
   "cell_type": "code",
   "execution_count": 18,
   "metadata": {},
   "outputs": [
    {
     "data": {
      "image/png": "[encoded data removed]",
      "text/plain": [
       "<Figure size 432x288 with 1 Axes>"
      ]
     },
     "metadata": {
      "needs_background": "light"
     },
     "output_type": "display_data"
    },
    {
     "data": {
      "image/png": "[encoded data removed]",
      "text/plain": [
       "<Figure size 432x288 with 1 Axes>"
      ]
     },
     "metadata": {
      "needs_background": "light"
     },
     "output_type": "display_data"
    },
    {
     "data": {
      "image/png": "[encoded data removed]",
      "text/plain": [
       "<Figure size 432x288 with 1 Axes>"
      ]
     },
     "metadata": {
      "needs_background": "light"
     },
     "output_type": "display_data"
    }
   ],
   "source": [
    "#可以看一下二维一个数据每一个通道的图像（虽然没什么实际意义）\n",
    "for i in range(3):\n",
    "    plt.imshow(X2[9, :, :, i])\n",
    "    plt.show()"
   ]
  },
  {
   "cell_type": "code",
   "execution_count": 19,
   "metadata": {},
   "outputs": [],
   "source": [
    "#将数据的label进行one-hot 编码\n",
    "Y2 = np.zeros((150, 3), dtype=float)\n",
    "for i in range(150):\n",
    "    if Y1[i]==0:\n",
    "        Y2[i,0]=1\n",
    "    elif Y1[i]==1:\n",
    "        Y2[i,1]=1\n",
    "    else :\n",
    "        Y2[i,2]=1"
   ]
  },
  {
   "cell_type": "code",
   "execution_count": 20,
   "metadata": {},
   "outputs": [],
   "source": [
    "#题目里的意思应该是不分训练集和测试集，但是这样很可能过拟合，而且我就算分了也能跑到100%的准确率，所以无伤大雅\n",
    "X2_train=X2[:140,:,:,:]\n",
    "Y2_train=Y2[:140,:]\n",
    "X2_test=X2[140:,:,:,:]\n",
    "Y2_test=Y2[140:,:]"
   ]
  },
  {
   "cell_type": "code",
   "execution_count": 22,
   "metadata": {},
   "outputs": [],
   "source": [
    "sess = tf.InteractiveSession()\n",
    "def weight_variable(shape):\n",
    "    initial = tf.truncated_normal(shape, stddev=0.1)\n",
    "    return tf.Variable(initial)\n",
    "def bias_variable(shape):\n",
    "    initial = tf.constant(0.1, shape=shape)\n",
    "    return tf.Variable(initial)\n",
    "def conv2d(x, W):\n",
    "    return tf.nn.conv2d(x, W, strides=[1, 1, 1, 1], padding='SAME')\n",
    "def max_pool(x):\n",
    "    return tf.nn.max_pool(x, ksize=[1, 2, 2, 1], strides=[1, 1, 1, 1], padding='SAME')\n",
    "y_ = tf.placeholder(tf.float32, [None, 3])\n",
    "x_image = tf.placeholder(tf.float32, [None, 4,4,8])"
   ]
  },
  {
   "cell_type": "code",
   "execution_count": 23,
   "metadata": {},
   "outputs": [],
   "source": [
    "#第一个卷积层+relu+池化\n",
    "W_conv1 = weight_variable([2, 2, 8, 16])\n",
    "b_conv1 = bias_variable([16])\n",
    "h_conv1 = tf.nn.relu(conv2d(x_image, W_conv1) + b_conv1)\n",
    "h_pool1 = max_pool(h_conv1)\n",
    "#第二个卷积层+relu+池化\n",
    "W_conv2 = weight_variable([2, 2, 16, 64])\n",
    "b_conv2 = bias_variable([64])\n",
    "h_conv2 = tf.nn.relu(conv2d(h_pool1, W_conv2) + b_conv2)\n",
    "h_pool2 = max_pool(h_conv2)\n",
    "#全连接+relu\n",
    "W_fc1 = weight_variable([4 *4 * 64, 32])\n",
    "b_fc1 = bias_variable([32])\n",
    "h_pool2_flat = tf.reshape(h_pool2, [-1, 4 * 4 *64])\n",
    "h_fc1 = tf.nn.relu(tf.matmul(h_pool2_flat, W_fc1) + b_fc1)\n",
    "#全连接+softmax\n",
    "W_fc2 = weight_variable([32, 3])\n",
    "b_fc2 = bias_variable([3])\n",
    "y_conv = tf.nn.softmax(tf.matmul(h_fc1, W_fc2) + b_fc2)"
   ]
  },
  {
   "cell_type": "code",
   "execution_count": 24,
   "metadata": {},
   "outputs": [],
   "source": [
    "# 定义损失函数\n",
    "cross_entropy = tf.reduce_mean(-tf.reduce_sum(y_ * tf.log(y_conv),reduction_indices=[1]))\n",
    "#使用Adam优化器\n",
    "train_step = tf.train.AdamOptimizer(0.5e-4).minimize(cross_entropy)\n",
    "#这里是取y_conv中最大的标签值和y_中的最大标签值比较，如果相等就置1\n",
    "correct_prediction = tf.equal(tf.argmax(y_conv, 1), tf.argmax(y_, 1))\n",
    "#因为是三分类问题，准确率就等于判对的除以总数，即下面\n",
    "accuracy = tf.reduce_mean(tf.cast(correct_prediction, tf.float32))\n",
    "predictxl=tf.argmax(y_conv,1)"
   ]
  },
  {
   "cell_type": "code",
   "execution_count": 26,
   "metadata": {},
   "outputs": [
    {
     "name": "stdout",
     "output_type": "stream",
     "text": [
      "step 0, training accuracy 0.342857  test accuracy 0.2\n",
      "step 100, training accuracy 0.685714  test accuracy 0.5\n",
      "step 200, training accuracy 0.85  test accuracy 0.8\n",
      "step 300, training accuracy 0.95  test accuracy 1\n",
      "step 400, training accuracy 0.964286  test accuracy 1\n",
      "step 500, training accuracy 0.957143  test accuracy 1\n",
      "step 600, training accuracy 0.957143  test accuracy 1\n",
      "step 700, training accuracy 0.957143  test accuracy 1\n",
      "step 800, training accuracy 0.957143  test accuracy 1\n",
      "step 900, training accuracy 0.957143  test accuracy 1\n",
      "step 1000, training accuracy 0.957143  test accuracy 1\n",
      "step 1100, training accuracy 0.957143  test accuracy 1\n",
      "step 1200, training accuracy 0.957143  test accuracy 1\n",
      "step 1300, training accuracy 0.957143  test accuracy 1\n",
      "step 1400, training accuracy 0.957143  test accuracy 1\n",
      "step 1500, training accuracy 0.957143  test accuracy 1\n",
      "step 1600, training accuracy 0.971429  test accuracy 1\n",
      "step 1700, training accuracy 0.971429  test accuracy 1\n",
      "step 1800, training accuracy 0.971429  test accuracy 1\n",
      "step 1900, training accuracy 0.971429  test accuracy 1\n",
      "step 2000, training accuracy 0.971429  test accuracy 1\n",
      "step 2100, training accuracy 0.978571  test accuracy 1\n",
      "step 2200, training accuracy 0.978571  test accuracy 1\n",
      "step 2300, training accuracy 0.978571  test accuracy 1\n",
      "step 2400, training accuracy 0.978571  test accuracy 1\n",
      "step 2500, training accuracy 0.978571  test accuracy 1\n",
      "step 2600, training accuracy 0.985714  test accuracy 1\n",
      "step 2700, training accuracy 0.985714  test accuracy 1\n",
      "step 2800, training accuracy 0.985714  test accuracy 1\n",
      "step 2900, training accuracy 0.985714  test accuracy 1\n",
      "step 3000, training accuracy 0.985714  test accuracy 1\n",
      "step 3100, training accuracy 0.985714  test accuracy 1\n",
      "step 3200, training accuracy 0.985714  test accuracy 1\n",
      "step 3300, training accuracy 0.985714  test accuracy 1\n",
      "step 3400, training accuracy 0.985714  test accuracy 1\n",
      "step 3500, training accuracy 0.985714  test accuracy 1\n",
      "step 3600, training accuracy 0.985714  test accuracy 1\n",
      "step 3700, training accuracy 0.985714  test accuracy 1\n",
      "step 3800, training accuracy 0.985714  test accuracy 1\n",
      "step 3900, training accuracy 0.985714  test accuracy 1\n",
      "step 4000, training accuracy 0.985714  test accuracy 1\n",
      "step 4100, training accuracy 0.985714  test accuracy 1\n",
      "step 4200, training accuracy 0.985714  test accuracy 1\n",
      "step 4300, training accuracy 0.985714  test accuracy 1\n",
      "step 4400, training accuracy 0.985714  test accuracy 1\n",
      "step 4500, training accuracy 0.985714  test accuracy 1\n",
      "step 4600, training accuracy 0.985714  test accuracy 1\n",
      "step 4700, training accuracy 0.985714  test accuracy 1\n",
      "step 4800, training accuracy 0.985714  test accuracy 1\n",
      "step 4900, training accuracy 0.985714  test accuracy 1\n",
      "step 5000, training accuracy 0.985714  test accuracy 1\n",
      "step 5100, training accuracy 0.985714  test accuracy 1\n",
      "step 5200, training accuracy 0.985714  test accuracy 1\n",
      "step 5300, training accuracy 0.985714  test accuracy 1\n",
      "step 5400, training accuracy 0.985714  test accuracy 1\n",
      "step 5500, training accuracy 0.985714  test accuracy 1\n",
      "step 5600, training accuracy 0.985714  test accuracy 1\n",
      "step 5700, training accuracy 0.985714  test accuracy 1\n",
      "step 5800, training accuracy 0.985714  test accuracy 1\n",
      "step 5900, training accuracy 0.985714  test accuracy 1\n",
      "step 6000, training accuracy 0.985714  test accuracy 1\n",
      "step 6100, training accuracy 0.985714  test accuracy 1\n",
      "step 6200, training accuracy 0.985714  test accuracy 1\n",
      "step 6300, training accuracy 0.985714  test accuracy 1\n",
      "step 6400, training accuracy 0.985714  test accuracy 1\n",
      "step 6500, training accuracy 0.985714  test accuracy 1\n",
      "step 6600, training accuracy 0.985714  test accuracy 1\n",
      "step 6700, training accuracy 0.985714  test accuracy 1\n",
      "step 6800, training accuracy 0.985714  test accuracy 1\n",
      "step 6900, training accuracy 0.985714  test accuracy 1\n",
      "step 7000, training accuracy 0.985714  test accuracy 1\n",
      "step 7100, training accuracy 0.985714  test accuracy 1\n",
      "step 7200, training accuracy 0.985714  test accuracy 1\n",
      "step 7300, training accuracy 0.985714  test accuracy 1\n",
      "step 7400, training accuracy 0.985714  test accuracy 1\n",
      "step 7500, training accuracy 1  test accuracy 1\n",
      "step 7600, training accuracy 1  test accuracy 1\n",
      "step 7700, training accuracy 1  test accuracy 1\n",
      "step 7800, training accuracy 1  test accuracy 1\n",
      "step 7900, training accuracy 1  test accuracy 1\n",
      "the last train accuracy 1\n",
      "the last test accuracy 1\n"
     ]
    }
   ],
   "source": [
    "tf.global_variables_initializer().run()\n",
    "for i in range(8000):\n",
    "    if i % 100 == 0:\n",
    "        train_accuracy = accuracy.eval(feed_dict={x_image: X2_train, y_: Y2_train})\n",
    "        print(\"step %d, training accuracy %g\" % (i, train_accuracy),end='  ')\n",
    "        print(\"test accuracy %g\" % accuracy.eval(feed_dict={\n",
    "            x_image: X2_test, y_: Y2_test\n",
    "        }))\n",
    "    train_step.run(feed_dict={x_image: X2_train, y_: Y2_train})\n",
    "\n",
    "print(\"the last train accuracy %g\" % accuracy.eval(feed_dict={\n",
    "    x_image: X2_train, y_: Y2_train\n",
    "}))\n",
    "print(\"the last test accuracy %g\" % accuracy.eval(feed_dict={\n",
    "    x_image: X2_test, y_: Y2_test\n",
    "}))"
   ]
  },
  {
   "cell_type": "code",
   "execution_count": 27,
   "metadata": {},
   "outputs": [
    {
     "name": "stdout",
     "output_type": "stream",
     "text": [
      "请依次输入Sepal.Length, Sepal.Width, Petal.Length, Petal.Width（用空格隔开）5.1 3.5 1.4 0.2\n",
      "Species:setosa\n"
     ]
    }
   ],
   "source": [
    "#预测\n",
    "def predicttoword(predict):\n",
    "    if predict==0:\n",
    "        print('Species:setosa')\n",
    "    elif predict==1:\n",
    "        print('Species:versicolor')\n",
    "    else:\n",
    "        print('Species:virginica')\n",
    "list=input('请依次输入Sepal.Length, Sepal.Width, Petal.Length, Petal.Width（用空格隔开）').split()\n",
    "predict_X=(np.array([float(i) for i in list])).reshape(-1,4)\n",
    "predict_X2=change1to2(predict_X,1)\n",
    "predict= predictxl.eval(feed_dict={x_image: predict_X2})\n",
    "predicttoword(predict)"
   ]
  }
 ],
 "metadata": {
  "kernelspec": {
   "display_name": "Python 3",
   "language": "python",
   "name": "python3"
  },
  "language_info": {
   "codemirror_mode": {
    "name": "ipython",
    "version": 3
   },
   "file_extension": ".py",
   "mimetype": "text/x-python",
   "name": "python",
   "nbconvert_exporter": "python",
   "pygments_lexer": "ipython3",
   "version": "3.7.6"
  }
 },
 "nbformat": 4,
 "nbformat_minor": 4
}
